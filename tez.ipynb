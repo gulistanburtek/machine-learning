{
  "nbformat": 4,
  "nbformat_minor": 0,
  "metadata": {
    "colab": {
      "name": "tez.ipynb",
      "provenance": [],
      "collapsed_sections": [],
      "authorship_tag": "ABX9TyNZ758c2DXLfVtzIhj6ZP5R",
      "include_colab_link": true
    },
    "kernelspec": {
      "name": "python3",
      "display_name": "Python 3"
    },
    "language_info": {
      "name": "python"
    }
  },
  "cells": [
    {
      "cell_type": "markdown",
      "metadata": {
        "id": "view-in-github",
        "colab_type": "text"
      },
      "source": [
        "<a href=\"https://colab.research.google.com/github/gulistanburtek/machine-learning/blob/main/tez.ipynb\" target=\"_parent\"><img src=\"https://colab.research.google.com/assets/colab-badge.svg\" alt=\"Open In Colab\"/></a>"
      ]
    },
    {
      "cell_type": "code",
      "execution_count": 1,
      "metadata": {
        "id": "7ZUMf0M9Zfp_"
      },
      "outputs": [],
      "source": [
        "import numpy as np # linear algebra\n",
        "import pandas as pd # data processing, CSV file I/O (e.g. pd.read_csv)\n",
        "import seaborn as sns\n",
        "import matplotlib.pyplot as plt\n",
        "import sklearn.ensemble as ske                          # Tüm sınıflandırıcıları içeren kütüphane.\n",
        "from sklearn.model_selection import train_test_split    # Veriyi TRAIN/TEST olarak bölmek için.\n"
      ]
    },
    {
      "cell_type": "code",
      "source": [
        "from google.colab import drive\n",
        "drive.mount('/content/drive')"
      ],
      "metadata": {
        "colab": {
          "base_uri": "https://localhost:8080/"
        },
        "id": "pzWwED0wZj_5",
        "outputId": "7c0c0f42-886e-40bf-a849-81c95e4e0eb8"
      },
      "execution_count": 2,
      "outputs": [
        {
          "output_type": "stream",
          "name": "stdout",
          "text": [
            "Drive already mounted at /content/drive; to attempt to forcibly remount, call drive.mount(\"/content/drive\", force_remount=True).\n"
          ]
        }
      ]
    },
    {
      "cell_type": "code",
      "source": [
        "data = pd.read_excel(\"/content/drive/MyDrive/tez/TrainingDataset.xlsx\")\n",
        "X = np.loadtxt(\"/content/drive/MyDrive/tez/Inputs.txt\")\n",
        "y = np.loadtxt(\"/content/drive/MyDrive/tez/Target.txt\") "
      ],
      "metadata": {
        "id": "Ie-FQXsNZoCs"
      },
      "execution_count": 3,
      "outputs": []
    },
    {
      "cell_type": "code",
      "source": [
        "from sklearn.model_selection import train_test_split\n",
        "X_train, X_test, y_train, y_test = train_test_split(X, y, test_size=0.3, random_state=0)\n",
        "from sklearn.metrics import accuracy_score, confusion_matrix, classification_report\n",
        "\n",
        "def print_score(clf, X_train, y_train, X_test, y_test, train=True):\n",
        "    if train:\n",
        "        pred = clf.predict(X_train)\n",
        "        clf_report = pd.DataFrame(classification_report(y_train, pred, output_dict=True))\n",
        "        print(\"Train Result:\\n================================================\")\n",
        "        print(f\"Accuracy Score: {accuracy_score(y_train, pred) * 100:.2f}%\")\n",
        "        print(\"_______________________________________________\")\n",
        "        print(f\"CLASSIFICATION REPORT:\\n{clf_report}\")\n",
        "        print(\"_______________________________________________\")\n",
        "        print(f\"Confusion Matrix: \\n {confusion_matrix(y_train, pred)}\\n\")\n",
        "        \n",
        "    elif train==False:\n",
        "        pred = clf.predict(X_test)\n",
        "        clf_report = pd.DataFrame(classification_report(y_test, pred, output_dict=True))\n",
        "        print(\"Test Result:\\n================================================\")        \n",
        "        print(f\"Accuracy Score: {accuracy_score(y_test, pred) * 100:.2f}%\")\n",
        "        print(\"_______________________________________________\")\n",
        "        print(f\"CLASSIFICATION REPORT:\\n{clf_report}\")\n",
        "        print(\"_______________________________________________\")\n",
        "        print(f\"Confusion Matrix: \\n {confusion_matrix(y_test, pred)}\\n\")\n",
        "\n",
        "from sklearn.svm import LinearSVC\n",
        "\n",
        "model = LinearSVC(loss='hinge', dual=True)\n",
        "model.fit(X_train, y_train)\n",
        "\n",
        "print_score(model, X_train, y_train, X_test, y_test, train=True)\n",
        "print_score(model, X_train, y_train, X_test, y_test, train=False)"
      ],
      "metadata": {
        "colab": {
          "base_uri": "https://localhost:8080/"
        },
        "id": "2juPQlj2qgPf",
        "outputId": "ad68fa56-15aa-4ba2-a449-7fabb782b6ea"
      },
      "execution_count": 4,
      "outputs": [
        {
          "output_type": "stream",
          "name": "stdout",
          "text": [
            "Train Result:\n",
            "================================================\n",
            "Accuracy Score: 76.58%\n",
            "_______________________________________________\n",
            "CLASSIFICATION REPORT:\n",
            "                   0.0          1.0  accuracy    macro avg  weighted avg\n",
            "precision     0.899522     0.701338  0.765795     0.800430      0.799258\n",
            "recall        0.592126     0.935404  0.765795     0.763765      0.765795\n",
            "f1-score      0.714150     0.801634  0.765795     0.757892      0.758410\n",
            "support    3175.000000  3251.000000  0.765795  6426.000000   6426.000000\n",
            "_______________________________________________\n",
            "Confusion Matrix: \n",
            " [[1880 1295]\n",
            " [ 210 3041]]\n",
            "\n",
            "Test Result:\n",
            "================================================\n",
            "Accuracy Score: 75.93%\n",
            "_______________________________________________\n",
            "CLASSIFICATION REPORT:\n",
            "                   0.0          1.0  accuracy    macro avg  weighted avg\n",
            "precision     0.902151     0.686404  0.759259     0.794277      0.796941\n",
            "recall        0.594614     0.932241  0.759259     0.763428      0.759259\n",
            "f1-score      0.716788     0.790654  0.759259     0.753721      0.752809\n",
            "support    1411.000000  1343.000000  0.759259  2754.000000   2754.000000\n",
            "_______________________________________________\n",
            "Confusion Matrix: \n",
            " [[ 839  572]\n",
            " [  91 1252]]\n",
            "\n"
          ]
        },
        {
          "output_type": "stream",
          "name": "stderr",
          "text": [
            "/usr/local/lib/python3.7/dist-packages/sklearn/svm/_base.py:1208: ConvergenceWarning: Liblinear failed to converge, increase the number of iterations.\n",
            "  ConvergenceWarning,\n"
          ]
        }
      ]
    },
    {
      "cell_type": "code",
      "source": [
        "classifier = ske.RandomForestClassifier()       \n",
        "classifier.fit(X_train, y_train)                # Burada sınıflandırıcıyı eğitiyoruz. TRAIN SETI KULLANILMALI.\n",
        "accuracy = classifier.score(X_test, y_test)*100.0     # Burada, accuracy skoru hesaplanıyor. TEST SETI KULLANILMALI.\n",
        "\n",
        "print(f\"%{accuracy}\")\n"
      ],
      "metadata": {
        "colab": {
          "base_uri": "https://localhost:8080/"
        },
        "id": "I4R4aPxzVkbA",
        "outputId": "59b79d11-d020-4897-abb2-fc629a72b971"
      },
      "execution_count": 5,
      "outputs": [
        {
          "output_type": "stream",
          "name": "stdout",
          "text": [
            "%85.87509077705157\n"
          ]
        }
      ]
    },
    {
      "cell_type": "code",
      "source": [
        "import xgboost as xgb\n",
        "\n",
        "xg_reg = xgb.XGBClassifier(objective ='reg:logistic', colsample_bytree = 0.3, learning_rate = 0.1,\n",
        "                max_depth = 5, alpha = 10, n_estimators = 35)  # XGBRegressor   XGBClassifier\n",
        "\n",
        "xg_reg.fit(X_train,y_train)\n",
        "\n",
        " \n",
        "from sklearn import metrics\n",
        "from sklearn.metrics import accuracy_score\n",
        "\n",
        "\n",
        "\n",
        "# predict the results\n",
        "y_predtrain = xg_reg.predict(X_train)\n",
        "y_predtest = xg_reg.predict(X_test)\n",
        "\n",
        "# view accuracy\n",
        "print(\"Training Accuracy:\",accuracy_score(y_train, y_predtrain))\n",
        "print(\"Testing Accuracy:\",accuracy_score(y_test, y_predtest))"
      ],
      "metadata": {
        "colab": {
          "base_uri": "https://localhost:8080/"
        },
        "id": "rBWZ0K0FqrLh",
        "outputId": "28014de4-3d37-4824-cbbf-ddde12b22b16"
      },
      "execution_count": 6,
      "outputs": [
        {
          "output_type": "stream",
          "name": "stdout",
          "text": [
            "Training Accuracy: 0.8646125116713352\n",
            "Testing Accuracy: 0.8478576615831518\n"
          ]
        }
      ]
    },
    {
      "cell_type": "markdown",
      "source": [
        ""
      ],
      "metadata": {
        "id": "vdF7lKNL8od_"
      }
    },
    {
      "cell_type": "code",
      "source": [
        ""
      ],
      "metadata": {
        "id": "zTBW-HyOA-d5"
      },
      "execution_count": 9,
      "outputs": []
    }
  ]
}