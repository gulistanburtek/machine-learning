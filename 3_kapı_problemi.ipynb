{
  "nbformat": 4,
  "nbformat_minor": 0,
  "metadata": {
    "colab": {
      "name": "3 kapı problemi.ipynb",
      "provenance": [],
      "collapsed_sections": [],
      "authorship_tag": "ABX9TyO/zjBXw5tWQ9UiluxKHPUU",
      "include_colab_link": true
    },
    "kernelspec": {
      "name": "python3",
      "display_name": "Python 3"
    },
    "language_info": {
      "name": "python"
    }
  },
  "cells": [
    {
      "cell_type": "markdown",
      "metadata": {
        "id": "view-in-github",
        "colab_type": "text"
      },
      "source": [
        "<a href=\"https://colab.research.google.com/github/gulistanburtek/machine-learning/blob/main/3_kap%C4%B1_problemi.ipynb\" target=\"_parent\"><img src=\"https://colab.research.google.com/assets/colab-badge.svg\" alt=\"Open In Colab\"/></a>"
      ]
    },
    {
      "cell_type": "code",
      "execution_count": null,
      "metadata": {
        "id": "6nOuK0cf931c"
      },
      "outputs": [],
      "source": [
        "import random"
      ]
    },
    {
      "cell_type": "code",
      "source": [
        "iter = 10000\n",
        "version1 = [0,0,1]\n",
        "version2 = [0,1,0]\n",
        "version3 = [1,0,0]\n",
        "versiyonlar = [version1, version2, version3]"
      ],
      "metadata": {
        "id": "Ps_NZ43nDoqA"
      },
      "execution_count": null,
      "outputs": []
    },
    {
      "cell_type": "code",
      "source": [
        "win = 0\n",
        "for x in range(iter):\n",
        "  y = random.randint(0,2)\n",
        "  versiyon = versiyonlar[y]\n",
        "  seçim = random.randint(0,2)\n",
        "  if versiyon[seçim] == 1:\n",
        "    win +=1\n",
        "yüzde = win/100\n",
        "print(\"şeçim değiştirilmezse\",yüzde)"
      ],
      "metadata": {
        "colab": {
          "base_uri": "https://localhost:8080/"
        },
        "id": "M7cXvLFQF97O",
        "outputId": "891b50ee-67c7-4f88-87dc-e47029d67308"
      },
      "execution_count": null,
      "outputs": [
        {
          "output_type": "stream",
          "name": "stdout",
          "text": [
            "şeçim değiştirilmezse 33.67\n"
          ]
        }
      ]
    },
    {
      "cell_type": "code",
      "source": [
        "win = 0\n",
        "for x in range(iter):\n",
        "  y = random.randint(0,2)\n",
        "  versiyon = versiyonlar[y]\n",
        "  seçim = random.randint(0,2)\n",
        "  copyversiyon = versiyon.copy()\n",
        "  copyversiyon.pop(seçim)\n",
        "  sunucu = 0\n",
        "  if copyversiyon[sunucu] == 1:\n",
        "    sunucu = 1\n",
        "  copyversiyon.pop(sunucu)\n",
        "  if copyversiyon[0] == 1:\n",
        "    win +=1\n",
        "yüzde = win/100\n",
        "print(\"kapı değiştirirse\",yüzde)"
      ],
      "metadata": {
        "colab": {
          "base_uri": "https://localhost:8080/"
        },
        "id": "nQtbkrgfKCoL",
        "outputId": "33cde0e4-95bd-49c1-e91f-95eba65d52d4"
      },
      "execution_count": null,
      "outputs": [
        {
          "output_type": "stream",
          "name": "stdout",
          "text": [
            "kapı değiştirirse 66.87\n"
          ]
        }
      ]
    },
    {
      "cell_type": "code",
      "source": [
        ""
      ],
      "metadata": {
        "id": "Pv_nbb33egmm"
      },
      "execution_count": null,
      "outputs": []
    }
  ]
}